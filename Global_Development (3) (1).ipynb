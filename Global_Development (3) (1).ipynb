{
 "cells": [
  {
   "cell_type": "code",
   "execution_count": null,
   "metadata": {
    "id": "uq-C3JPDmsaJ"
   },
   "outputs": [],
   "source": [
    "import pandas as pd\n",
    "import numpy as np\n",
    "import matplotlib.pyplot as plt\n",
    "import seaborn as sns\n",
    "from sklearn.preprocessing import OrdinalEncoder\n",
    "from sklearn.preprocessing import StandardScaler\n",
    "\n",
    "from sklearn.decomposition import PCA\n",
    "from sklearn.manifold import TSNE\n",
    "\n",
    "import scipy.cluster.hierarchy as sch # to build the dendrogram and build the plotting\n",
    "from sklearn.cluster import AgglomerativeClustering,KMeans,DBSCAN\n",
    "\n",
    "from sklearn.neighbors import NearestNeighbors\n",
    "from sklearn.metrics import silhouette_score\n",
    "\n",
    "\n",
    "plt.rcParams['figure.figsize']=(15,10)\n",
    "plt.rcParams['figure.dpi']=300\n",
    "%matplotlib inline\n",
    "import warnings\n",
    "warnings.filterwarnings(\"ignore\")"
   ]
  },
  {
   "cell_type": "code",
   "execution_count": null,
   "metadata": {
    "colab": {
     "base_uri": "https://localhost:8080/",
     "height": 600
    },
    "id": "bgd3K6kSsytf",
    "outputId": "af74c53c-35a3-4c34-c8bd-e85dcd059483"
   },
   "outputs": [],
   "source": [
    "# load the DataSet\n",
    "df=pd.read_excel(\"World_development_mesurement.xlsx\")\n",
    "df"
   ]
  },
  {
   "cell_type": "markdown",
   "metadata": {
    "id": "Nm8NSSwztHjp"
   },
   "source": [
    "# **Exploratory Data Analysis**"
   ]
  },
  {
   "cell_type": "code",
   "execution_count": null,
   "metadata": {
    "id": "Vw24gOEBZF8F"
   },
   "outputs": [],
   "source": [
    "df[\"GDP\"]=df[\"GDP\"].str.replace(\"$\",\"\").str.replace(\",\",\"\").astype(float)"
   ]
  },
  {
   "cell_type": "code",
   "execution_count": null,
   "metadata": {
    "id": "mRnqSDSUNw5J"
   },
   "outputs": [],
   "source": [
    "df[\"Health Exp/Capita\"]=df[\"Health Exp/Capita\"].str.replace(\"$\",\"\").str.replace(\",\",\"\").astype(float)"
   ]
  },
  {
   "cell_type": "code",
   "execution_count": null,
   "metadata": {
    "id": "dhY_yJLhN_Df"
   },
   "outputs": [],
   "source": [
    "df[\"Tourism Inbound\"]=df[\"Tourism Inbound\"].str.replace(\"$\",\"\").str.replace(\",\",\"\").astype(float)"
   ]
  },
  {
   "cell_type": "code",
   "execution_count": null,
   "metadata": {
    "id": "5TflX0hzOGD3"
   },
   "outputs": [],
   "source": [
    "df[\"Tourism Outbound\"]=df[\"Tourism Outbound\"].str.replace(\"$\",\"\").str.replace(\",\",\"\").astype(float)"
   ]
  },
  {
   "cell_type": "code",
   "execution_count": null,
   "metadata": {
    "id": "Y_Rl1grDOMhT"
   },
   "outputs": [],
   "source": [
    "df['Business Tax Rate'] = df['Business Tax Rate'].str.replace('%', '').str.replace(',', '').astype(float)"
   ]
  },
  {
   "cell_type": "code",
   "execution_count": null,
   "metadata": {
    "colab": {
     "base_uri": "https://localhost:8080/",
     "height": 580
    },
    "id": "XJYgeryBOU2C",
    "outputId": "377bde6c-3797-472f-ebd0-1ab8019c2f32"
   },
   "outputs": [],
   "source": [
    "df"
   ]
  },
  {
   "cell_type": "code",
   "execution_count": null,
   "metadata": {
    "colab": {
     "base_uri": "https://localhost:8080/",
     "height": 384
    },
    "id": "0FAZ0gzOtHRi",
    "outputId": "3da6ba12-09a4-4c63-dc8a-eff69ed0b7d9"
   },
   "outputs": [],
   "source": [
    "df.describe()"
   ]
  },
  {
   "cell_type": "code",
   "execution_count": null,
   "metadata": {
    "colab": {
     "base_uri": "https://localhost:8080/",
     "height": 175
    },
    "id": "q6njMzZku7i6",
    "outputId": "ae078388-20af-44ad-b850-704e4046fd67"
   },
   "outputs": [],
   "source": [
    "df.describe(include=object)"
   ]
  },
  {
   "cell_type": "code",
   "execution_count": null,
   "metadata": {
    "id": "fF0K6c2ZsrD3"
   },
   "outputs": [],
   "source": [
    "OR=OrdinalEncoder()\n",
    "df[\"Country\"]=OR.fit_transform(df[[\"Country\"]])"
   ]
  },
  {
   "cell_type": "code",
   "execution_count": null,
   "metadata": {
    "colab": {
     "base_uri": "https://localhost:8080/"
    },
    "id": "k8ddZx5XvGQB",
    "outputId": "42cefcb9-fa25-4e64-b04c-6ef0aceb35e5"
   },
   "outputs": [],
   "source": [
    "df.info()"
   ]
  },
  {
   "cell_type": "code",
   "execution_count": null,
   "metadata": {
    "colab": {
     "base_uri": "https://localhost:8080/"
    },
    "id": "jfHhKd7Wvg7B",
    "outputId": "79f844ce-f625-4051-e246-d3d8bd353a9b"
   },
   "outputs": [],
   "source": [
    "df.shape"
   ]
  },
  {
   "cell_type": "code",
   "execution_count": null,
   "metadata": {
    "colab": {
     "base_uri": "https://localhost:8080/",
     "height": 868
    },
    "id": "f52gqMT00yof",
    "outputId": "8e457195-121c-4df3-c334-8296ac5f1ab1"
   },
   "outputs": [],
   "source": [
    "df.dtypes\n"
   ]
  },
  {
   "cell_type": "code",
   "execution_count": null,
   "metadata": {
    "colab": {
     "base_uri": "https://localhost:8080/",
     "height": 490
    },
    "id": "r7ArjLBJvxQo",
    "outputId": "75aad6ec-7336-4c56-8c3a-c2217515cd23"
   },
   "outputs": [],
   "source": [
    "df[\"Business Tax Rate\"].value_counts()"
   ]
  },
  {
   "cell_type": "code",
   "execution_count": null,
   "metadata": {
    "colab": {
     "base_uri": "https://localhost:8080/",
     "height": 490
    },
    "id": "5kdAGWEf2eCJ",
    "outputId": "b6b4fda7-f2f2-4f16-fc8a-128b733957f3"
   },
   "outputs": [],
   "source": [
    "df[\"GDP\"].value_counts()"
   ]
  },
  {
   "cell_type": "code",
   "execution_count": null,
   "metadata": {
    "colab": {
     "base_uri": "https://localhost:8080/"
    },
    "id": "7-0lswTg3hzO",
    "outputId": "40908238-0d5f-4c3c-92df-d10203d4bab9"
   },
   "outputs": [],
   "source": [
    "df[\"GDP\"].unique()"
   ]
  },
  {
   "cell_type": "code",
   "execution_count": null,
   "metadata": {
    "colab": {
     "base_uri": "https://localhost:8080/",
     "height": 490
    },
    "id": "0s14Sq793Arc",
    "outputId": "793b3ae4-81d2-41fb-edf2-99fdc4740efe"
   },
   "outputs": [],
   "source": [
    "df[\"Tourism Inbound\"].value_counts()"
   ]
  },
  {
   "cell_type": "code",
   "execution_count": null,
   "metadata": {
    "colab": {
     "base_uri": "https://localhost:8080/",
     "height": 490
    },
    "id": "SJlZlxWQ7jm_",
    "outputId": "12acf9c3-f231-4e83-c7ac-dee4e0fc8921"
   },
   "outputs": [],
   "source": [
    "df[\"Tourism Outbound\"].value_counts()"
   ]
  },
  {
   "cell_type": "code",
   "execution_count": null,
   "metadata": {
    "colab": {
     "base_uri": "https://localhost:8080/",
     "height": 490
    },
    "id": "SQ4pfAxe7qrq",
    "outputId": "737d75f1-50a6-4e84-8c4a-0aa69a30b962"
   },
   "outputs": [],
   "source": [
    "df[\"Health Exp % GDP\"].value_counts()"
   ]
  },
  {
   "cell_type": "code",
   "execution_count": null,
   "metadata": {
    "colab": {
     "base_uri": "https://localhost:8080/"
    },
    "id": "amUdjHS-yRHB",
    "outputId": "f5daf94c-a2e0-4a3f-d950-7f18fd16629e"
   },
   "outputs": [],
   "source": [
    "df.duplicated().sum()"
   ]
  },
  {
   "cell_type": "code",
   "execution_count": null,
   "metadata": {
    "colab": {
     "base_uri": "https://localhost:8080/",
     "height": 868
    },
    "id": "zS-7z_LxyVx1",
    "outputId": "d35a8362-ccdd-4883-d166-8f9318641bb0"
   },
   "outputs": [],
   "source": [
    "df.isnull().sum()"
   ]
  },
  {
   "cell_type": "code",
   "execution_count": null,
   "metadata": {
    "colab": {
     "base_uri": "https://localhost:8080/"
    },
    "id": "mzY_4KSt0a6A",
    "outputId": "e417fec3-d90b-404c-f223-7bf62a6fc7d7"
   },
   "outputs": [],
   "source": [
    "for i in df.isna().sum():\n",
    "  print(i/len(df)*100)"
   ]
  },
  {
   "cell_type": "code",
   "execution_count": null,
   "metadata": {
    "id": "8pEflWVk74TT"
   },
   "outputs": [],
   "source": [
    "df.drop(columns=[\"Ease of Business\",\"Number of Records\"],inplace=True)"
   ]
  },
  {
   "cell_type": "code",
   "execution_count": null,
   "metadata": {
    "colab": {
     "base_uri": "https://localhost:8080/",
     "height": 458
    },
    "id": "UttuJPOU8UFl",
    "outputId": "aeaabf9e-6e9d-4dc4-c34f-a5a57655aeec"
   },
   "outputs": [],
   "source": [
    "df"
   ]
  },
  {
   "cell_type": "code",
   "execution_count": null,
   "metadata": {
    "colab": {
     "base_uri": "https://localhost:8080/",
     "height": 1000
    },
    "id": "kdtkVBaP8y-6",
    "outputId": "f6e609f2-68a3-4cef-d88c-324a1f274167"
   },
   "outputs": [],
   "source": [
    "sns.heatmap(df.isna(),cmap=\"Blues\")\n",
    "plt.tight_layout()"
   ]
  },
  {
   "cell_type": "code",
   "execution_count": null,
   "metadata": {
    "colab": {
     "base_uri": "https://localhost:8080/",
     "height": 805
    },
    "id": "_HnRBrbg9pya",
    "outputId": "cc7fdf8a-b8a7-4df0-f8be-3363d3cf94b8"
   },
   "outputs": [],
   "source": [
    "df.isnull().sum()"
   ]
  },
  {
   "cell_type": "code",
   "execution_count": null,
   "metadata": {
    "colab": {
     "base_uri": "https://localhost:8080/"
    },
    "id": "o0KfkW0h9b2M",
    "outputId": "020b9ee5-d45d-4837-ed87-dc429f9e1c60"
   },
   "outputs": [],
   "source": [
    "for i in df.isna().sum():\n",
    "  print(i/len(df)*100)"
   ]
  },
  {
   "cell_type": "markdown",
   "metadata": {
    "id": "1TFRWq7L--gg"
   },
   "source": [
    "To replace the missing values check for Outliers\n",
    "\n",
    "\n",
    "\n",
    "*   For numerical columns having outliers replace them with the median.\n",
    "*   For numerical columns doesn't having the outliers replace them with the mean.\n",
    "*   for categorical column replace missing values by mode\n",
    "\n",
    "\n",
    "\n",
    "\n"
   ]
  },
  {
   "cell_type": "code",
   "execution_count": null,
   "metadata": {
    "colab": {
     "base_uri": "https://localhost:8080/",
     "height": 1000
    },
    "id": "KNYXU2rDBJ8Z",
    "outputId": "99dd982b-8612-4879-b43e-fb1e38cce84c"
   },
   "outputs": [],
   "source": [
    "for column in df.select_dtypes(include=np.number).columns:\n",
    "  sns.boxplot(y=df[column], palette=\"rainbow\")\n",
    "  plt.title(f\"Boxplot of {column}\")\n",
    "  plt.tight_layout()\n",
    "  plt.show()"
   ]
  },
  {
   "cell_type": "code",
   "execution_count": null,
   "metadata": {
    "colab": {
     "base_uri": "https://localhost:8080/",
     "height": 1000
    },
    "id": "f08fZKaFByEK",
    "outputId": "5b11d6f8-d0d3-4435-cf61-e31c9f5abbd9"
   },
   "outputs": [],
   "source": [
    "for column in df.select_dtypes(include=np.number).columns:\n",
    "  sns.histplot(x=df[column], palette=\"teal\")\n",
    "  plt.title(f\"histogram of {column}\")\n",
    "  plt.tight_layout()\n",
    "  plt.show()"
   ]
  },
  {
   "cell_type": "code",
   "execution_count": null,
   "metadata": {
    "colab": {
     "base_uri": "https://localhost:8080/",
     "height": 1000
    },
    "id": "j7fLfgdzDbuD",
    "outputId": "150b04c0-7791-49fa-e82b-5367bdbc4920"
   },
   "outputs": [],
   "source": [
    "df.hist(figsize=(15,10),bins=20,color=\"skyblue\") # removed color_palette, which is not a valid argument for df.hist\n",
    "plt.tight_layout()\n",
    "plt.show()\n"
   ]
  },
  {
   "cell_type": "code",
   "execution_count": null,
   "metadata": {
    "colab": {
     "base_uri": "https://localhost:8080/"
    },
    "id": "ByKOjpHoFhYg",
    "outputId": "10248a04-0e8d-49c7-d173-a783a88090ab"
   },
   "outputs": [],
   "source": [
    "df.columns\n"
   ]
  },
  {
   "cell_type": "code",
   "execution_count": null,
   "metadata": {
    "id": "tKxMPmiDELSE"
   },
   "outputs": [],
   "source": [
    "df[\"Business Tax Rate\"].fillna(df[\"Business Tax Rate\"].median(),inplace=True)\n",
    "\n",
    "df[\"CO2 Emissions\"].fillna(df[\"CO2 Emissions\"].median(),inplace=True)\n",
    "\n",
    "df[\"Days to Start Business\"].fillna(df[\"Days to Start Business\"].median(),inplace=True)\n",
    "\n",
    "df[\"Energy Usage\"].fillna(df[\"Energy Usage\"].median(),inplace=True)\n",
    "\n",
    "df[\"GDP\"].fillna(df[\"GDP\"].median(),inplace=True)\n",
    "\n",
    "df[\"Health Exp % GDP\"].fillna(df[\"Health Exp % GDP\"].median(),inplace=True)\n",
    "\n",
    "df[\"Health Exp/Capita\"].fillna(df[\"Health Exp/Capita\"].median(),inplace=True)\n",
    "\n",
    "df[\"Hours to do Tax\"].fillna(df[\"Hours to do Tax\"].median(),inplace=True)\n",
    "\n",
    "df[\"Infant Mortality Rate\"].fillna(df[\"Infant Mortality Rate\"].median(),inplace=True)\n",
    "\n",
    "df[\"Internet Usage\"].fillna(df[\"Internet Usage\"].mean(),inplace=True)\n",
    "\n",
    "df[\"Lending Interest\"].fillna(df[\"Lending Interest\"].median(),inplace=True)\n",
    "\n",
    "df[\"Life Expectancy Female\"].fillna(df[\"Life Expectancy Female\"].median(),inplace=True)\n",
    "\n",
    "df[\"Life Expectancy Male\"].fillna(df[\"Life Expectancy Male\"].median(),inplace=True)\n",
    "\n",
    "df[\"Mobile Phone Usage\"].fillna(df[\"Mobile Phone Usage\"].median(),inplace=True)\n",
    "\n",
    "df[\"Population 0-14\"].fillna(df[\"Population 0-14\"].mean(),inplace=True)\n",
    "\n",
    "df[\"Population 15-64\"].fillna(df[\"Population 15-64\"].median(),inplace=True)\n",
    "\n",
    "df[\"Population 65+\"].fillna(df[\"Population 65+\"].median(),inplace=True)\n",
    "\n",
    "df[\"Tourism Inbound\"].fillna(df[\"Tourism Inbound\"].median(),inplace=True)\n",
    "\n",
    "df[\"Tourism Outbound\"].fillna(df[\"Tourism Outbound\"].median(),inplace=True)\n"
   ]
  },
  {
   "cell_type": "code",
   "execution_count": null,
   "metadata": {
    "colab": {
     "base_uri": "https://localhost:8080/",
     "height": 490
    },
    "id": "-T_Jy-9tJAhs",
    "outputId": "b341e42b-077d-45dd-85c4-e1cbcdff65c9"
   },
   "outputs": [],
   "source": [
    "df[\"Country\"].value_counts()"
   ]
  },
  {
   "cell_type": "code",
   "execution_count": null,
   "metadata": {
    "colab": {
     "base_uri": "https://localhost:8080/",
     "height": 805
    },
    "id": "LvIyBf44HrKy",
    "outputId": "0612b04e-c08a-461a-a0de-c22b12deb7dd"
   },
   "outputs": [],
   "source": [
    "df.isna().sum()"
   ]
  },
  {
   "cell_type": "code",
   "execution_count": null,
   "metadata": {
    "id": "EgApruUxH9qA"
   },
   "outputs": [],
   "source": [
    "df.dropna(inplace=True)"
   ]
  },
  {
   "cell_type": "code",
   "execution_count": null,
   "metadata": {
    "colab": {
     "base_uri": "https://localhost:8080/",
     "height": 805
    },
    "id": "exjAfgAkIEB6",
    "outputId": "dee0f172-5924-443b-e870-15981a7f950f"
   },
   "outputs": [],
   "source": [
    "df.isna().sum()"
   ]
  },
  {
   "cell_type": "markdown",
   "metadata": {
    "id": "W5u1wVeaIYeK"
   },
   "source": [
    "to treat the outliers\n",
    "\n",
    "  capping replacing outlier values is called capping\n",
    "\n",
    "  In capping all outlier values will be replaced by upper extreame or lower extreame\n",
    "\n",
    "  Outliesr detection : user defined function to calculate upper extreame and lower extreame"
   ]
  },
  {
   "cell_type": "code",
   "execution_count": null,
   "metadata": {
    "colab": {
     "base_uri": "https://localhost:8080/",
     "height": 384
    },
    "id": "aBwk-6olLPnY",
    "outputId": "d4d91a19-6b98-4561-ab7e-49b1ed802d59"
   },
   "outputs": [],
   "source": [
    "df.describe()"
   ]
  },
  {
   "cell_type": "code",
   "execution_count": null,
   "metadata": {
    "colab": {
     "base_uri": "https://localhost:8080/",
     "height": 1000
    },
    "id": "shUH50JDIHFz",
    "outputId": "f1a2af27-de9d-4bf2-c7b7-66aeb59f3199"
   },
   "outputs": [],
   "source": [
    "sns.boxplot(df,palette=\"rainbow\")\n",
    "plt.tight_layout()"
   ]
  },
  {
   "cell_type": "code",
   "execution_count": null,
   "metadata": {
    "colab": {
     "base_uri": "https://localhost:8080/",
     "height": 1000
    },
    "id": "BOGA5cJLJje1",
    "outputId": "b41bc6cc-8779-422c-b0dd-f5b7d1ef4c00"
   },
   "outputs": [],
   "source": [
    "for column in df.select_dtypes(include=np.number).columns:\n",
    "  sns.boxplot(y=df[column])\n",
    "  plt.title(f\"Boxplot of {column}\")\n",
    "  plt.tight_layout()\n",
    "  plt.show()"
   ]
  },
  {
   "cell_type": "code",
   "execution_count": null,
   "metadata": {
    "colab": {
     "base_uri": "https://localhost:8080/",
     "height": 1000
    },
    "id": "8WidICAlKRwW",
    "outputId": "4569f634-8016-4739-e9b0-74d93039cb86"
   },
   "outputs": [],
   "source": [
    "df.hist(figsize=(15,10),bins=20,color=\"red\")\n",
    "plt.tight_layout()\n",
    "plt.show()"
   ]
  },
  {
   "cell_type": "code",
   "execution_count": null,
   "metadata": {
    "id": "mTIEGUIYIXkv"
   },
   "outputs": [],
   "source": [
    "def outlier_detection(data,colname):\n",
    "  q1=data[colname].quantile(0.25)\n",
    "  q2=data[colname].quantile(0.75)\n",
    "\n",
    "  iqr=q2-q1\n",
    "  upper_extreame=q2+(1.5*iqr)\n",
    "  lower_extreame=q1-(1.5*iqr)\n",
    "  return lower_extreame,upper_extreame,q1,q2\n"
   ]
  },
  {
   "cell_type": "code",
   "execution_count": null,
   "metadata": {
    "colab": {
     "base_uri": "https://localhost:8080/"
    },
    "id": "gw9tJwf-IlDK",
    "outputId": "69c7c641-51e5-43ff-f28d-4421fa145b80"
   },
   "outputs": [],
   "source": [
    "for column in df.select_dtypes(include=np.number).columns:\n",
    "  print(outlier_detection(df,column))"
   ]
  },
  {
   "cell_type": "code",
   "execution_count": null,
   "metadata": {
    "colab": {
     "base_uri": "https://localhost:8080/"
    },
    "id": "4VQ9nzDXLxQi",
    "outputId": "d70c09ef-fd2f-419d-961c-37a464e5154f"
   },
   "outputs": [],
   "source": [
    "df.columns\n"
   ]
  },
  {
   "cell_type": "code",
   "execution_count": null,
   "metadata": {
    "id": "b8_M6FDhLo9h"
   },
   "outputs": [],
   "source": [
    "df.loc[df[\"Business Tax Rate\"]>47.825,\"Business Tax Rate\"]=47.825\n",
    "df.loc[df[\"Business Tax Rate\"]<34.825,\"Business Tax Rate\"]=34.825\n",
    "\n",
    "df.loc[df[\"CO2 Emissions\"]>113119.0,\"CO2 Emissions\"]=113119.0\n",
    "\n",
    "df.loc[df[\"Days to Start Business\"]>57.5,\"Days to Start Business\"]=57.5\n",
    "\n",
    "df.loc[df[\"Energy Usage\"]>52732.5,\"Energy Usage\"]=52732.5\n",
    "\n",
    "df.loc[df[\"GDP\"]>248573930319.5,\"GDP\"]=248573930319.5\n",
    "\n",
    "df.loc[df[\"Health Exp % GDP\"]>0.122,\"Health Exp % GDP\"]=0.122\n",
    "\n",
    "df.loc[df[\"Health Exp/Capita\"]>1332.0,\"Health Exp/Capita\"]=1332.0\n",
    "\n",
    "df.loc[df[\"Hours to do Tax\"]>324.0,\"Hours to do Tax\"]=324.0\n",
    "df.loc[df[\"Hours to do Tax\"]<164.0,\"Hours to do Tax\"]=164.0\n",
    "\n",
    "df.loc[df[\"Infant Mortality Rate\"]>0.11649999999999999,\"Infant Mortality Rate\"]=0.11649999999999999\n",
    "\n",
    "df.loc[df[\"Lending Interest\"]>0.23725,\"Lending Interest\"]=0.23725\n",
    "\n",
    "df.loc[df[\"Life Expectancy Female\"]<41.5,\"Life Expectancy Female\"]=41.5\n",
    "\n",
    "df.loc[df[\"Life Expectancy Male\"]<41.75,\"Life Expectancy Male\"]=41.75\n",
    "\n",
    "df.loc[df[\"Mobile Phone Usage\"]>2.1,\"Mobile Phone Usage\"]=2.1\n",
    "\n",
    "df.loc[df[\"Population 15-64\"]>0.846000000000000,\"Population 15-64\"]=0.846000000000000\n",
    "\n",
    "df.loc[df[\"Population 65+\"]>0.22399999999999998,\"Population 65+\"]=0.22399999999999998\n",
    "\n",
    "df.loc[df[\"Population Total\"]>51680541.25,\"Population Total\"]=51680541.25\n",
    "\n",
    "df.loc[df[\"Tourism Inbound\"]>7183500000.0,\"Tourism Inbound\"]=7183500000.0\n",
    "\n",
    "df.loc[df[\"Tourism Outbound\"]>4514500000.0,\"Tourism Outbound\"]=4514500000.0\n"
   ]
  },
  {
   "cell_type": "code",
   "execution_count": null,
   "metadata": {
    "colab": {
     "base_uri": "https://localhost:8080/",
     "height": 458
    },
    "id": "tBGI9LpReQ1L",
    "outputId": "f916d234-730e-4bba-d0a7-fd07c5265f7b"
   },
   "outputs": [],
   "source": [
    "df\n",
    "Data=df.copy()\n",
    "df"
   ]
  },
  {
   "cell_type": "code",
   "execution_count": null,
   "metadata": {
    "colab": {
     "base_uri": "https://localhost:8080/",
     "height": 384
    },
    "id": "rzvXbpmgeUJ9",
    "outputId": "fec5bd81-9688-4bad-bc8f-c7e8e5f6f53f"
   },
   "outputs": [],
   "source": [
    "df.describe()"
   ]
  },
  {
   "cell_type": "code",
   "execution_count": null,
   "metadata": {
    "colab": {
     "base_uri": "https://localhost:8080/",
     "height": 1000
    },
    "id": "XQZTw8kKSr6l",
    "outputId": "2216488f-fea6-4caa-8499-69b8c9db134f"
   },
   "outputs": [],
   "source": [
    "\n",
    "sns.boxplot(df,palette=\"coolwarm\")\n",
    "plt.tight_layout()"
   ]
  },
  {
   "cell_type": "code",
   "execution_count": null,
   "metadata": {
    "colab": {
     "base_uri": "https://localhost:8080/",
     "height": 1000
    },
    "id": "txOaTC0WTINb",
    "outputId": "fb97ceba-0e12-4f67-bd5c-8370a5997ffd"
   },
   "outputs": [],
   "source": [
    "for column in df.select_dtypes(include=np.number).columns:\n",
    "  sns.boxplot(y=df[column])\n",
    "  plt.title(f\"Boxplot of {column}\")\n",
    "  plt.tight_layout()\n",
    "  plt.show()"
   ]
  },
  {
   "cell_type": "code",
   "execution_count": null,
   "metadata": {
    "colab": {
     "base_uri": "https://localhost:8080/",
     "height": 1000
    },
    "id": "S4Q4QViBrrLV",
    "outputId": "843d9d2e-4a78-4914-ad5a-9c13866bb742"
   },
   "outputs": [],
   "source": [
    "df.hist(color=\"yellow\",edgecolor=\"black\")\n",
    "plt.tight_layout()"
   ]
  },
  {
   "cell_type": "code",
   "execution_count": null,
   "metadata": {
    "colab": {
     "base_uri": "https://localhost:8080/",
     "height": 1000
    },
    "id": "19qtxhvyf-9M",
    "outputId": "26afb25c-de84-4698-98a0-fec643cfc684"
   },
   "outputs": [],
   "source": [
    "\n",
    "plt.subplot(3, 4, 1)\n",
    "sns.distplot(df[\"Birth Rate\"])\n",
    "plt.tight_layout()\n",
    "\n",
    "plt.subplot(3, 4, 2)\n",
    "sns.distplot(df[\"Business Tax Rate\"])\n",
    "plt.tight_layout()\n",
    "\n",
    "plt.subplot(3, 4, 3)\n",
    "sns.distplot(df[\"CO2 Emissions\"])\n",
    "plt.tight_layout()\n",
    "\n",
    "plt.subplot(3, 4, 4)\n",
    "sns.distplot(df[\"Days to Start Business\"])\n",
    "plt.tight_layout()\n",
    "\n",
    "plt.subplot(3, 4, 5)\n",
    "sns.distplot(df[\"Energy Usage\"])\n",
    "plt.tight_layout()\n",
    "\n",
    "plt.subplot(3, 4, 6)\n",
    "sns.distplot(df[\"GDP\"])\n",
    "plt.tight_layout()\n",
    "\n",
    "plt.subplot(3, 4, 7)\n",
    "sns.distplot(df[\"Health Exp % GDP\"])\n",
    "plt.tight_layout()\n",
    "\n",
    "plt.subplot(3, 4, 8)\n",
    "sns.distplot(df[\"Health Exp/Capita\"])\n",
    "plt.tight_layout()\n",
    "\n",
    "plt.subplot(3, 4, 9)\n",
    "sns.distplot(df[\"Hours to do Tax\"])\n",
    "plt.tight_layout()\n",
    "\n",
    "plt.subplot(3, 4, 10)\n",
    "sns.distplot(df[\"Infant Mortality Rate\"])\n",
    "plt.tight_layout()\n",
    "\n",
    "plt.subplot(3, 4, 11)\n",
    "sns.distplot(df[\"Internet Usage\"])\n",
    "plt.tight_layout()"
   ]
  },
  {
   "cell_type": "code",
   "execution_count": null,
   "metadata": {
    "colab": {
     "base_uri": "https://localhost:8080/",
     "height": 1000
    },
    "id": "Lblb3yu384Hb",
    "outputId": "988a1278-a0df-4dbc-d61c-de285db9a653"
   },
   "outputs": [],
   "source": [
    "sns.countplot(x='Country', data=df,palette=\"coolwarm\")\n",
    "plt.title('Countries')\n",
    "plt.xlabel('Country')\n",
    "plt.ylabel('Count')\n",
    "plt.tight_layout()\n",
    "plt.show()"
   ]
  },
  {
   "cell_type": "code",
   "execution_count": null,
   "metadata": {
    "colab": {
     "base_uri": "https://localhost:8080/",
     "height": 1000
    },
    "id": "__r-VHWpYA-8",
    "outputId": "4e8c2e8b-afc7-4a33-8e9c-54b996d4c505"
   },
   "outputs": [],
   "source": [
    "sns.countplot(x='Life Expectancy Female', data=df,palette=\"viridis\")\n",
    "plt.title('Life Expectency of Females')\n",
    "plt.xlabel('AGE')\n",
    "plt.ylabel('Count')\n",
    "plt.tight_layout()\n",
    "plt.show()"
   ]
  },
  {
   "cell_type": "code",
   "execution_count": null,
   "metadata": {
    "colab": {
     "base_uri": "https://localhost:8080/",
     "height": 1000
    },
    "id": "ycjo6HCmYdCQ",
    "outputId": "039d7930-b581-428b-d705-86a89e53a2fc"
   },
   "outputs": [],
   "source": [
    "sns.countplot(x='Life Expectancy Male', data=df,palette=\"rainbow\")\n",
    "plt.title('Life Expectency of Males')\n",
    "plt.xlabel('AGE')\n",
    "plt.ylabel('Count')\n",
    "plt.tight_layout()\n",
    "plt.show()"
   ]
  },
  {
   "cell_type": "code",
   "execution_count": null,
   "metadata": {
    "colab": {
     "base_uri": "https://localhost:8080/",
     "height": 1000
    },
    "id": "_owR46mIZelm",
    "outputId": "659a664b-2bb8-4372-a309-c6ea8901aa98"
   },
   "outputs": [],
   "source": [
    "sns.pairplot(df)\n",
    "plt.tight_layout()"
   ]
  },
  {
   "cell_type": "code",
   "execution_count": null,
   "metadata": {
    "colab": {
     "base_uri": "https://localhost:8080/",
     "height": 1000
    },
    "id": "MWwrPwaHgWDT",
    "outputId": "cb13fafe-df4a-4d2b-9db7-d0e5e44a1ade"
   },
   "outputs": [],
   "source": [
    "import pandas as pd\n",
    "import matplotlib.pyplot as plt\n",
    "columns = [\n",
    "    'GDP',\n",
    "    'Birth Rate',\n",
    "    'Business Tax Rate',\n",
    "    'CO2 Emissions',\n",
    "    'Energy Usage',\n",
    "    'Internet Usage',\n",
    "    'Lending Interest',\n",
    "    'Mobile Phone Usage'\n",
    "]\n",
    "plt.figure(figsize=(15, 30))\n",
    "for i, column in enumerate(columns):\n",
    "    plt.subplot(len(columns), 1, i + 1)\n",
    "    grouped_data = df.groupby('Country')[column].sum()\n",
    "    top5 = grouped_data.nlargest(5)\n",
    "    plt.barh(top5.index, top5.values, color='skyblue', edgecolor='black')\n",
    "    plt.title(f'Top 5 Countries by {column}', fontsize=16)\n",
    "    plt.xlabel(column, fontsize=12)\n",
    "    plt.ylabel('Country', fontsize=12)\n",
    "plt.tight_layout()\n",
    "plt.show()\n"
   ]
  },
  {
   "cell_type": "code",
   "execution_count": null,
   "metadata": {
    "colab": {
     "base_uri": "https://localhost:8080/",
     "height": 1000
    },
    "id": "y_g8fCarjTsE",
    "outputId": "71f2d68d-8181-4151-e0bd-4f4e62679c85"
   },
   "outputs": [],
   "source": [
    "category_counts = df['Birth Rate'].value_counts()\n",
    "plt.pie(category_counts, labels=category_counts.index, autopct='%1.1f%%')\n",
    "plt.title('Birth Rate')\n",
    "plt.tight_layout()\n",
    "plt.show()"
   ]
  },
  {
   "cell_type": "code",
   "execution_count": null,
   "metadata": {
    "colab": {
     "base_uri": "https://localhost:8080/",
     "height": 1000
    },
    "id": "peosVvnikiU2",
    "outputId": "daf8604c-231a-4ece-d37b-fea473ffc221"
   },
   "outputs": [],
   "source": [
    "sns.lineplot(x=df.index,y=df[\"Population Urban\"],palette=\"vividis\")\n",
    "plt.tight_layout()"
   ]
  },
  {
   "cell_type": "code",
   "execution_count": null,
   "metadata": {
    "colab": {
     "base_uri": "https://localhost:8080/",
     "height": 1000
    },
    "id": "OLBgFWv0lt1V",
    "outputId": "418a4bab-5b67-47a6-fa77-136cd3616002"
   },
   "outputs": [],
   "source": [
    "plt.figure(figsize=(10,8),facecolor=\"blue\",edgecolor=\"red\")\n",
    "sns.scatterplot(x=\"Population Total\",y='Lending Interest',hue=\"Days to Start Business\",data=df,palette=\"rainbow\")\n",
    "plt.tight_layout()"
   ]
  },
  {
   "cell_type": "code",
   "execution_count": null,
   "metadata": {
    "colab": {
     "base_uri": "https://localhost:8080/",
     "height": 1000
    },
    "id": "Jtki7G3bnVxl",
    "outputId": "2415ad60-e1c6-4535-b5cc-f318dc0a0910"
   },
   "outputs": [],
   "source": [
    "df[\"Infant Mortality Rate\"].plot(kind=\"line\")"
   ]
  },
  {
   "cell_type": "code",
   "execution_count": null,
   "metadata": {
    "colab": {
     "base_uri": "https://localhost:8080/",
     "height": 1000
    },
    "id": "YSLxpUWOpS1J",
    "outputId": "a9eb2d03-9d56-4afb-efe0-84aed7f081da"
   },
   "outputs": [],
   "source": [
    "plt.figure(figsize=(10,8),facecolor=\"teal\",edgecolor=\"red\")\n",
    "sns.scatterplot(x=\"CO2 Emissions\",y='Energy Usage',hue=\"Birth Rate\",data=df,palette=\"rainbow\")\n",
    "plt.tight_layout()"
   ]
  },
  {
   "cell_type": "code",
   "execution_count": null,
   "metadata": {
    "colab": {
     "base_uri": "https://localhost:8080/",
     "height": 1000
    },
    "id": "t3_i-fN6qNjQ",
    "outputId": "3ab30e02-ae10-44dd-9de7-9db0b5d95a68"
   },
   "outputs": [],
   "source": [
    "sns.swarmplot(x=\"Health Exp % GDP\",y=\"Hours to do Tax\",data=df,size=6,hue=\"Internet Usage\")\n",
    "plt.tight_layout()"
   ]
  },
  {
   "cell_type": "code",
   "execution_count": null,
   "metadata": {
    "colab": {
     "base_uri": "https://localhost:8080/",
     "height": 1000
    },
    "id": "RcztfXg0rwQ9",
    "outputId": "2c70f67d-ccba-4be0-ccb5-21ee505cd89a"
   },
   "outputs": [],
   "source": [
    "df.corr(numeric_only=True)"
   ]
  },
  {
   "cell_type": "code",
   "execution_count": null,
   "metadata": {
    "colab": {
     "base_uri": "https://localhost:8080/",
     "height": 1000
    },
    "id": "hAlBirPesFaj",
    "outputId": "ff7649e5-3026-484e-fc3a-d1a988bd2964"
   },
   "outputs": [],
   "source": [
    "sns.heatmap(df.corr(numeric_only=True),annot=True,cmap=\"viridis\")\n",
    "plt.tight_layout()"
   ]
  },
  {
   "cell_type": "markdown",
   "metadata": {
    "id": "SbSLayZIgjJE"
   },
   "source": [
    "#### **Positive Correlations:**\n",
    "1. **Life Expectancy Female ↔ Life Expectancy Male (0.98):** These two are nearly perfectly correlated, meaning when life expectancy for females increases, it also increases for males.\n",
    "2. **Population Total ↔ Population Urban (0.93):** A strong correlation shows that as total population increases, urban population also grows significantly.\n",
    "3. **GDP ↔ Energy Usage (0.74):** A positive correlation suggests that countries with higher GDPs consume more energy.\n",
    "4. **Health Exp/Capita ↔ GDP (0.61):** Wealthier countries (higher GDP) tend to spend more on health per capita, showcasing a direct relationship between economic performance and investment in health.\n",
    "#### **Negative Correlations:**\n",
    "1. **Birth Rate ↔ Life Expectancy Female (-0.87):** Countries with higher birth rates have lower female life expectancy.\n",
    "2. **Infant Mortality Rate ↔ Life Expectancy Male (-0.82):** High infant mortality reflects poorer health outcomes.\n",
    "3. **Population 0-14 ↔ Population 15-64 (-0.77):** A significant negative correlation means that a higher proportion of young people often corresponds to a smaller working-age population.\n",
    "4. **Tourism Inbound ↔ Tourism Outbound (-0.54):** This suggests that countries with more inbound tourism (foreign visitors) tend to have fewer outbound tourists (local citizens traveling abroad), and vice versa.\n",
    "\n",
    "#### **Moderate Correlations:**\n",
    "1. **Mobile Phone Usage ↔ Internet Usage (0.53):** A moderate positive correlation shows that higher mobile phone usage generally coincides with increased internet penetration.\n",
    "2. **Lending Interest ↔ GDP (-0.39):** As lending interest rates rise, GDP tends to drop slightly."
   ]
  },
  {
   "cell_type": "code",
   "execution_count": null,
   "metadata": {
    "colab": {
     "base_uri": "https://localhost:8080/",
     "height": 458
    },
    "id": "a4caIQNq_VRp",
    "outputId": "40c397b4-b8f1-444c-b50e-6d643a9cb1b0"
   },
   "outputs": [],
   "source": [
    "# standardization\n",
    "Sc=StandardScaler()\n",
    "df1=Sc.fit_transform(df)\n",
    "df=pd.DataFrame(df1,columns=df.columns)\n",
    "df\n"
   ]
  },
  {
   "cell_type": "code",
   "execution_count": null,
   "metadata": {
    "colab": {
     "base_uri": "https://localhost:8080/",
     "height": 454
    },
    "id": "vn0W0rqsAW9q",
    "outputId": "572cfee0-da96-4617-9b22-165c25874097"
   },
   "outputs": [],
   "source": [
    "df.describe()"
   ]
  },
  {
   "cell_type": "markdown",
   "metadata": {
    "id": "CwTDL2JJlaVi"
   },
   "source": [
    "# **Feature Engineering**"
   ]
  },
  {
   "cell_type": "markdown",
   "metadata": {
    "id": "ff-P_Kz6vBQb"
   },
   "source": [
    "## **PCA**"
   ]
  },
  {
   "cell_type": "code",
   "execution_count": null,
   "metadata": {
    "id": "YpQW1Hb5l0ki"
   },
   "outputs": [],
   "source": [
    "pca=PCA()\n",
    "pca_components=pca.fit_transform(df)"
   ]
  },
  {
   "cell_type": "code",
   "execution_count": null,
   "metadata": {
    "colab": {
     "base_uri": "https://localhost:8080/"
    },
    "id": "j7US5v6mrBE3",
    "outputId": "5f9beaae-dcf1-4dee-dc14-b317a27ddc18"
   },
   "outputs": [],
   "source": [
    "pca_components"
   ]
  },
  {
   "cell_type": "code",
   "execution_count": null,
   "metadata": {
    "colab": {
     "base_uri": "https://localhost:8080/"
    },
    "id": "pu8Z-KJKrFC9",
    "outputId": "95b529ce-0eb4-412a-962a-924e2036c9ca"
   },
   "outputs": [],
   "source": [
    "pca.explained_variance_"
   ]
  },
  {
   "cell_type": "code",
   "execution_count": null,
   "metadata": {
    "colab": {
     "base_uri": "https://localhost:8080/"
    },
    "id": "iQA4VSZ8rQFe",
    "outputId": "0ea3a14a-8913-499e-a693-2873a88277ad"
   },
   "outputs": [],
   "source": [
    "var=pca.explained_variance_ratio_\n",
    "var"
   ]
  },
  {
   "cell_type": "code",
   "execution_count": null,
   "metadata": {
    "colab": {
     "base_uri": "https://localhost:8080/"
    },
    "id": "vBEppM3LrVL2",
    "outputId": "410e5d92-f487-4503-8b0a-a08c3759aad6"
   },
   "outputs": [],
   "source": [
    "var1=np.cumsum(np.round(var,4)*100)\n",
    "var1"
   ]
  },
  {
   "cell_type": "code",
   "execution_count": null,
   "metadata": {
    "id": "CFLnLbKIrm75"
   },
   "outputs": [],
   "source": [
    "pca = PCA(n_components=0.97)  # Retain 97% of the variance\n",
    "principal_components = pca.fit_transform(df)"
   ]
  },
  {
   "cell_type": "code",
   "execution_count": null,
   "metadata": {
    "colab": {
     "base_uri": "https://localhost:8080/"
    },
    "id": "Lqs1CA7NsiNK",
    "outputId": "1535946e-fdda-4659-e8ec-5cb2fda30eaa"
   },
   "outputs": [],
   "source": [
    "pca_components"
   ]
  },
  {
   "cell_type": "code",
   "execution_count": null,
   "metadata": {
    "colab": {
     "base_uri": "https://localhost:8080/"
    },
    "id": "WJnsQ8hosrRu",
    "outputId": "f10f14d9-9827-4312-fe56-78434f51bab9"
   },
   "outputs": [],
   "source": [
    "pca.explained_variance_"
   ]
  },
  {
   "cell_type": "code",
   "execution_count": null,
   "metadata": {
    "colab": {
     "base_uri": "https://localhost:8080/"
    },
    "id": "dB2uKMGIsyV0",
    "outputId": "bae04810-2ae3-4499-efe7-3f4d83512825"
   },
   "outputs": [],
   "source": [
    "var=pca.explained_variance_ratio_\n",
    "var"
   ]
  },
  {
   "cell_type": "code",
   "execution_count": null,
   "metadata": {
    "colab": {
     "base_uri": "https://localhost:8080/"
    },
    "id": "ozJvOXeps35b",
    "outputId": "9c5ab6fc-4665-4d2b-e7f0-e4d03256b5e2"
   },
   "outputs": [],
   "source": [
    "var1=np.cumsum(np.round(var,4)*100)\n",
    "var1"
   ]
  },
  {
   "cell_type": "code",
   "execution_count": null,
   "metadata": {
    "colab": {
     "base_uri": "https://localhost:8080/",
     "height": 1000
    },
    "id": "XQ3khQgrsEAh",
    "outputId": "05512414-abdb-453f-d9a7-b71ef9615798"
   },
   "outputs": [],
   "source": [
    "plt.figure(figsize=(10, 6))\n",
    "plt.plot(np.cumsum(pca.explained_variance_ratio_), marker='o', linestyle='--', color='b')\n",
    "plt.title('Explained Variance by Principal Components')\n",
    "plt.xlabel('Number of Principal Components')\n",
    "plt.ylabel('Cumulative Explained Variance')\n",
    "plt.grid(True)\n",
    "plt.show()"
   ]
  },
  {
   "cell_type": "code",
   "execution_count": null,
   "metadata": {
    "id": "g0XObexFtL7F"
   },
   "outputs": [],
   "source": [
    "# Create a DataFrame of the principal components\n",
    "pca_df = pd.DataFrame(data=principal_components, columns=[f'PC{i+1}' for i in range(principal_components.shape[1])])\n"
   ]
  },
  {
   "cell_type": "code",
   "execution_count": null,
   "metadata": {
    "colab": {
     "base_uri": "https://localhost:8080/",
     "height": 424
    },
    "id": "MgkF7dI6tQKC",
    "outputId": "df7cf044-6c34-40fc-8f66-e570870f8396"
   },
   "outputs": [],
   "source": [
    "pca_df"
   ]
  },
  {
   "cell_type": "code",
   "execution_count": null,
   "metadata": {
    "colab": {
     "base_uri": "https://localhost:8080/"
    },
    "id": "hFgIIvp0teUw",
    "outputId": "29847876-f841-4126-ebe2-5c01e82a8cf3"
   },
   "outputs": [],
   "source": [
    "explained_variance = pca.explained_variance_ratio_\n",
    "print(f'Explained Variance Ratio by Component: {explained_variance}')"
   ]
  },
  {
   "cell_type": "code",
   "execution_count": null,
   "metadata": {
    "colab": {
     "base_uri": "https://localhost:8080/",
     "height": 1000
    },
    "id": "kt2sT3wZtkYi",
    "outputId": "90e866a8-6e34-4466-ceb6-02c956c1b512"
   },
   "outputs": [],
   "source": [
    "plt.figure(figsize=(8, 6))\n",
    "sns.scatterplot(x=pca_df['PC1'], y=pca_df['PC2'])\n",
    "plt.title('Data Visualization on First Two Principal Components')\n",
    "plt.xlabel('Principal Component 1')\n",
    "plt.ylabel('Principal Component 2')\n",
    "plt.show()"
   ]
  },
  {
   "cell_type": "code",
   "execution_count": null,
   "metadata": {
    "colab": {
     "base_uri": "https://localhost:8080/",
     "height": 1000
    },
    "id": "oiPWHOW8tz0Y",
    "outputId": "554d71a6-f91c-46d8-c7aa-3c936b7f1ad0"
   },
   "outputs": [],
   "source": [
    "sns.pairplot(pca_df,diag_kind=\"kde\",palette=\"viridis\")"
   ]
  },
  {
   "cell_type": "markdown",
   "metadata": {
    "id": "pwAotXRavEVP"
   },
   "source": [
    "## **t-SNE**"
   ]
  },
  {
   "cell_type": "code",
   "execution_count": null,
   "metadata": {
    "colab": {
     "base_uri": "https://localhost:8080/"
    },
    "id": "ljHG0Qgsu8Mi",
    "outputId": "e8c12f9c-46cb-4d9f-d5a1-00c304ed5af4"
   },
   "outputs": [],
   "source": [
    "tsne = TSNE(n_components=2, perplexity=30, n_iter=1000, random_state=42)\n",
    "tsne_results = tsne.fit_transform(df)\n",
    "tsne_results\n",
    "#n_components=2: Reduce the data to 2D.\n",
    "#perplexity=30: Defines how to balance local vs. global structure in the data.\n",
    "#n_iter=1000: Maximum iterations for t-SNE optimization.\n",
    "#random_state=42: For reproducibility"
   ]
  },
  {
   "cell_type": "code",
   "execution_count": null,
   "metadata": {
    "colab": {
     "base_uri": "https://localhost:8080/",
     "height": 424
    },
    "id": "0Sp4pUBYwWMf",
    "outputId": "179d1708-2ff6-4140-ea1f-8867d7499d05"
   },
   "outputs": [],
   "source": [
    "tsne_df = pd.DataFrame(data=tsne_results, columns=['Dim1', 'Dim2'])\n",
    "tsne_df"
   ]
  },
  {
   "cell_type": "code",
   "execution_count": null,
   "metadata": {
    "colab": {
     "base_uri": "https://localhost:8080/",
     "height": 1000
    },
    "id": "TeLy2SrVwlyX",
    "outputId": "5d051a47-6ae6-4a24-eb0a-872158111417"
   },
   "outputs": [],
   "source": [
    "plt.figure(figsize=(8, 6))\n",
    "sns.scatterplot(x=tsne_df['Dim1'], y=tsne_df['Dim2'], palette='viridis', s=60)\n",
    "plt.title('t-SNE Visualization of Data')\n",
    "plt.xlabel('Dimension 1')\n",
    "plt.ylabel('Dimension 2')\n",
    "plt.grid(True)\n",
    "plt.show()"
   ]
  },
  {
   "cell_type": "code",
   "execution_count": null,
   "metadata": {
    "colab": {
     "base_uri": "https://localhost:8080/",
     "height": 1000
    },
    "id": "Ua1I9-bIwqSb",
    "outputId": "af06f8f8-9406-49e3-a49e-6ae2d9ea886d"
   },
   "outputs": [],
   "source": [
    "sns.pairplot(tsne_df,plot_kws={'color': 'teal'})"
   ]
  },
  {
   "cell_type": "markdown",
   "metadata": {
    "id": "cAvbAuZvyRAo"
   },
   "source": [
    "# **Model Building**"
   ]
  },
  {
   "cell_type": "markdown",
   "metadata": {
    "id": "gTz3zsqPADiw"
   },
   "source": [
    "### **Hirarchical Clustering**"
   ]
  },
  {
   "cell_type": "code",
   "execution_count": null,
   "metadata": {
    "colab": {
     "base_uri": "https://localhost:8080/",
     "height": 1000
    },
    "id": "-sNLj3XqyGvA",
    "outputId": "3148fe17-d567-47df-cc38-89ee5848de27"
   },
   "outputs": [],
   "source": [
    "plt.figure(figsize=(12, 8))\n",
    "dendrogram = sch.dendrogram(sch.linkage(pca_df, method='complete'))\n",
    "plt.title('Dendrogram for Hierarchical Clustering')\n",
    "plt.xlabel('Data Points')\n",
    "plt.ylabel('Euclidean Distance')\n",
    "plt.grid(True)\n",
    "plt.show()"
   ]
  },
  {
   "cell_type": "code",
   "execution_count": null,
   "metadata": {
    "colab": {
     "base_uri": "https://localhost:8080/",
     "height": 80
    },
    "id": "VorSzlPV0HUw",
    "outputId": "beb8f08c-6237-4712-bb17-d84c1664f3b5"
   },
   "outputs": [],
   "source": [
    "# create clusters, suppose got input from customer that go for 4 clustes\n",
    "hc=AgglomerativeClustering(n_clusters=4,metric=\"euclidean\",linkage=\"complete\")\n",
    "hc"
   ]
  },
  {
   "cell_type": "code",
   "execution_count": null,
   "metadata": {
    "colab": {
     "base_uri": "https://localhost:8080/"
    },
    "id": "WU3IBk569LYO",
    "outputId": "702da525-590f-4406-8ac4-0d2c17ff7b9c"
   },
   "outputs": [],
   "source": [
    "y_hc=hc.fit_predict(pca_df)\n",
    "y_hc"
   ]
  },
  {
   "cell_type": "code",
   "execution_count": null,
   "metadata": {
    "colab": {
     "base_uri": "https://localhost:8080/",
     "height": 424
    },
    "id": "eH84FXsG9c16",
    "outputId": "551c7743-dacb-42af-ac11-19df579cabb9"
   },
   "outputs": [],
   "source": [
    "clusters1=pd.DataFrame(y_hc,columns=[\"H_Clusters\"])\n",
    "clusters1"
   ]
  },
  {
   "cell_type": "code",
   "execution_count": null,
   "metadata": {
    "colab": {
     "base_uri": "https://localhost:8080/",
     "height": 1000
    },
    "id": "VdhUPV7_95xx",
    "outputId": "93581ece-1bdf-4f77-b201-1ee55bc86472"
   },
   "outputs": [],
   "source": [
    "plt.figure(figsize=(8, 6))\n",
    "pca_df['Cluster'] = clusters1['H_Clusters']  # Adding cluster information to pca_df\n",
    "for cluster in np.unique(clusters1):\n",
    "    plt.scatter(pca_df[pca_df['Cluster'] == cluster]['PC1'],\n",
    "                pca_df[pca_df['Cluster'] == cluster]['PC2'],\n",
    "                label=f'Cluster {cluster + 1}')\n",
    "plt.title('Clusters Visualized Using First 2 Principal Components')\n",
    "plt.xlabel('Principal Component 1')\n",
    "plt.ylabel('Principal Component 2')\n",
    "plt.legend()\n",
    "plt.show()"
   ]
  },
  {
   "cell_type": "code",
   "execution_count": null,
   "metadata": {
    "colab": {
     "base_uri": "https://localhost:8080/",
     "height": 1000
    },
    "id": "oEPFMniw-Ssx",
    "outputId": "65cd94f1-86a7-4f5d-aa19-b3632467ef33"
   },
   "outputs": [],
   "source": [
    "\n",
    "\n",
    "plt.figure(figsize=(8, 6))\n",
    "pca_df['Cluster'] = clusters1['H_Clusters']\n",
    "for cluster in np.unique(clusters1):\n",
    "    plt.scatter(pca_df[pca_df['Cluster'] == cluster]['PC3'],\n",
    "                pca_df[pca_df['Cluster'] == cluster]['PC4'],\n",
    "                label=f'Cluster {cluster + 1}')\n",
    "plt.title('Clusters Visualized Using First 2 Principal Components')\n",
    "plt.xlabel('Principal Component 3')\n",
    "plt.ylabel('Principal Component 4')\n",
    "plt.legend()\n",
    "plt.show()"
   ]
  },
  {
   "cell_type": "code",
   "execution_count": null,
   "metadata": {
    "colab": {
     "base_uri": "https://localhost:8080/",
     "height": 1000
    },
    "id": "8bxKe79fAWIk",
    "outputId": "8581a4b6-2f4c-4223-a9c9-34cd95ea77bf"
   },
   "outputs": [],
   "source": [
    "sns.pairplot(pca_df,hue=\"Cluster\",palette=\"rainbow\")"
   ]
  },
  {
   "cell_type": "code",
   "execution_count": null,
   "metadata": {
    "colab": {
     "base_uri": "https://localhost:8080/",
     "height": 458
    },
    "id": "0WquThmaPyWm",
    "outputId": "a553c8f7-b0d6-478f-ff35-2fdd29e2d935"
   },
   "outputs": [],
   "source": [
    "Data\n",
    "h_data=Data.copy()\n",
    "h_data"
   ]
  },
  {
   "cell_type": "code",
   "execution_count": null,
   "metadata": {
    "colab": {
     "base_uri": "https://localhost:8080/",
     "height": 458
    },
    "id": "zou0FwW4QM-C",
    "outputId": "e75805d6-6745-4b30-a246-2071969cbf27"
   },
   "outputs": [],
   "source": [
    "h_data[\"H_Clusters\"]=clusters1\n",
    "h_data"
   ]
  },
  {
   "cell_type": "code",
   "execution_count": null,
   "metadata": {
    "colab": {
     "base_uri": "https://localhost:8080/",
     "height": 458
    },
    "id": "qSTu3_xlQosE",
    "outputId": "3ca1933c-5f10-41da-975f-e1dc112ee8f5"
   },
   "outputs": [],
   "source": [
    "h_data[h_data[\"H_Clusters\"]==0]"
   ]
  },
  {
   "cell_type": "code",
   "execution_count": null,
   "metadata": {
    "colab": {
     "base_uri": "https://localhost:8080/",
     "height": 458
    },
    "id": "JZzs3NEGQyAG",
    "outputId": "748382e9-d9b5-4027-b757-019bb874b261"
   },
   "outputs": [],
   "source": [
    "h_data[h_data[\"H_Clusters\"]==1]"
   ]
  },
  {
   "cell_type": "code",
   "execution_count": null,
   "metadata": {
    "colab": {
     "base_uri": "https://localhost:8080/",
     "height": 458
    },
    "id": "c1yUuZ0cQz5S",
    "outputId": "9395f855-c77a-479e-ea58-da1376cb990e"
   },
   "outputs": [],
   "source": [
    "h_data[h_data[\"H_Clusters\"]==2]"
   ]
  },
  {
   "cell_type": "code",
   "execution_count": null,
   "metadata": {
    "colab": {
     "base_uri": "https://localhost:8080/",
     "height": 458
    },
    "id": "ksCe_5piQ2qw",
    "outputId": "e6bc735a-4f1e-483a-f506-0f070c23d5c0"
   },
   "outputs": [],
   "source": [
    "h_data[h_data[\"H_Clusters\"]==3]"
   ]
  },
  {
   "cell_type": "markdown",
   "metadata": {
    "id": "sTXeiQHSAiqm"
   },
   "source": [
    "### **K-means Clustering**"
   ]
  },
  {
   "cell_type": "code",
   "execution_count": null,
   "metadata": {
    "id": "fpxYR7m6AMTK"
   },
   "outputs": [],
   "source": [
    "WCSS=[] # initialize WCS and begin the loop\n",
    "for i in range(1,11):\n",
    "  kmeans=KMeans(n_clusters=i,init=\"k-means++\",max_iter=300,random_state=0)#max_iter=300 is default value\n",
    "  kmeans.fit(pca_df)# use fit method to fit the kmeans object to our scaled dataframe\n",
    "  WCSS.append(kmeans.inertia_)# another name for wcss is inertia"
   ]
  },
  {
   "cell_type": "code",
   "execution_count": null,
   "metadata": {
    "colab": {
     "base_uri": "https://localhost:8080/",
     "height": 1000
    },
    "id": "ip58Dgz6BTl4",
    "outputId": "2dd5f600-a790-4447-9214-5c734aea41f4"
   },
   "outputs": [],
   "source": [
    "plt.figure(figsize=(8, 6))\n",
    "plt.plot(range(1,11), WCSS, marker='o', linestyle='--', color='r')\n",
    "plt.xlabel('Number of Clusters (K)')\n",
    "plt.ylabel('Inertia (Within-Cluster Sum of Squares)')\n",
    "plt.title('Elbow Method for Optimal K')\n",
    "plt.grid(True)\n",
    "plt.show()"
   ]
  },
  {
   "cell_type": "code",
   "execution_count": null,
   "metadata": {
    "colab": {
     "base_uri": "https://localhost:8080/"
    },
    "id": "lAgRCgZ2F0aH",
    "outputId": "5779fe95-b896-4c67-8d90-aab17de035c3"
   },
   "outputs": [],
   "source": [
    "kmeans=KMeans(n_clusters=4,random_state=0) # pass no of clusters as 4\n",
    "y_K=kmeans.fit_predict(pca_df)\n",
    "y_K"
   ]
  },
  {
   "cell_type": "code",
   "execution_count": null,
   "metadata": {
    "colab": {
     "base_uri": "https://localhost:8080/",
     "height": 424
    },
    "id": "vlO0eoA8GLYM",
    "outputId": "a5219ed2-40b9-4ad9-cf28-0d6f84062e8a"
   },
   "outputs": [],
   "source": [
    "clusters2=pd.DataFrame(y_K,columns=[\"K_Clusters\"])\n",
    "clusters2"
   ]
  },
  {
   "cell_type": "code",
   "execution_count": null,
   "metadata": {
    "colab": {
     "base_uri": "https://localhost:8080/",
     "height": 1000
    },
    "id": "T7PdZrHqGrSa",
    "outputId": "5d487156-10a1-4f40-f6e3-ab99f088b56a"
   },
   "outputs": [],
   "source": [
    "plt.figure(figsize=(8, 6))\n",
    "pca_df['Cluster'] = clusters2['K_Clusters']\n",
    "sns.scatterplot(x=pca_df['PC1'], y=pca_df['PC2'], hue=pca_df['Cluster'], palette='viridis', s=60)\n",
    "plt.title('Clusters Visualized Using First 2 Principal Components')\n",
    "plt.xlabel('Principal Component 1')\n",
    "plt.ylabel('Principal Component 2')\n",
    "plt.legend(title='Cluster')\n",
    "plt.show()"
   ]
  },
  {
   "cell_type": "code",
   "execution_count": null,
   "metadata": {
    "colab": {
     "base_uri": "https://localhost:8080/",
     "height": 1000
    },
    "id": "mmUDBH2jHA_T",
    "outputId": "14f178a6-38e5-44a5-b42f-fd84870dff1d"
   },
   "outputs": [],
   "source": [
    "sns.pairplot(pca_df,hue=\"Cluster\",palette=\"viridis\")"
   ]
  },
  {
   "cell_type": "code",
   "execution_count": null,
   "metadata": {
    "colab": {
     "base_uri": "https://localhost:8080/",
     "height": 458
    },
    "id": "IeGC2Vz3RHE2",
    "outputId": "120de2f7-d9c6-4add-a7c4-f7e42c3c87bc"
   },
   "outputs": [],
   "source": [
    "Data\n",
    "K_data=Data.copy()\n",
    "K_data\n",
    "\n"
   ]
  },
  {
   "cell_type": "code",
   "execution_count": null,
   "metadata": {
    "colab": {
     "base_uri": "https://localhost:8080/",
     "height": 458
    },
    "id": "8EznuyGjIABf",
    "outputId": "9ecc5d90-39d9-4138-c413-6db613cf4e72"
   },
   "outputs": [],
   "source": [
    "K_data[\"K_Clusters\"]=clusters2\n",
    "K_data"
   ]
  },
  {
   "cell_type": "code",
   "execution_count": null,
   "metadata": {
    "colab": {
     "base_uri": "https://localhost:8080/",
     "height": 458
    },
    "id": "9yhJT-YZIGmB",
    "outputId": "0e5f890a-0535-431d-cd27-14937117ee28"
   },
   "outputs": [],
   "source": [
    "K_data[K_data[\"K_Clusters\"]==0]"
   ]
  },
  {
   "cell_type": "code",
   "execution_count": null,
   "metadata": {
    "colab": {
     "base_uri": "https://localhost:8080/",
     "height": 458
    },
    "id": "hvArA_69INzr",
    "outputId": "d0bd285e-953e-4201-d8e6-4a6dd23e747e"
   },
   "outputs": [],
   "source": [
    "K_data[K_data[\"K_Clusters\"]==1]"
   ]
  },
  {
   "cell_type": "code",
   "execution_count": null,
   "metadata": {
    "colab": {
     "base_uri": "https://localhost:8080/",
     "height": 458
    },
    "id": "j0Ys3S7pIPKn",
    "outputId": "bc7e120f-ef8f-4e5a-9c03-4cc96d6ffe72"
   },
   "outputs": [],
   "source": [
    "K_data[K_data[\"K_Clusters\"]==2]"
   ]
  },
  {
   "cell_type": "code",
   "execution_count": null,
   "metadata": {
    "colab": {
     "base_uri": "https://localhost:8080/",
     "height": 458
    },
    "id": "wC9P2_DmIQbe",
    "outputId": "f4a8c14d-3e55-4c63-d2e5-a4282642d3a2"
   },
   "outputs": [],
   "source": [
    "K_data[K_data[\"K_Clusters\"]==3]"
   ]
  },
  {
   "cell_type": "markdown",
   "metadata": {
    "id": "qR_sHNycH_Vl"
   },
   "source": [
    "### **DBSCAN Clustering**"
   ]
  },
  {
   "cell_type": "code",
   "execution_count": null,
   "metadata": {
    "colab": {
     "base_uri": "https://localhost:8080/"
    },
    "id": "1CGniczQH-MS",
    "outputId": "c189f299-41e6-4b39-fa51-5cf55c0cd14e"
   },
   "outputs": [],
   "source": [
    "db=DBSCAN(eps=0.5,min_samples=3)# default eps=0.5\n",
    "y_db=db.fit_predict(pca_df)\n",
    "y_db"
   ]
  },
  {
   "cell_type": "code",
   "execution_count": null,
   "metadata": {
    "colab": {
     "base_uri": "https://localhost:8080/",
     "height": 1000
    },
    "id": "pwJqx_v0IhSI",
    "outputId": "d0e9479b-9073-4ba7-b798-abc96415dd58"
   },
   "outputs": [],
   "source": [
    "plt.scatter(pca_df.iloc[:,3],pca_df.iloc[:,4],c=y_db,cmap=\"rainbow\")"
   ]
  },
  {
   "cell_type": "code",
   "execution_count": null,
   "metadata": {
    "id": "s2kWIOa7JZ9K"
   },
   "outputs": [],
   "source": [
    "# Find the k-distance (k = min_samples)\n",
    "k = 5\n",
    "neighbors = NearestNeighbors(n_neighbors=k)\n",
    "neighbors_fit = neighbors.fit(pca_df)\n",
    "distances, indices = neighbors_fit.kneighbors(pca_df)"
   ]
  },
  {
   "cell_type": "code",
   "execution_count": null,
   "metadata": {
    "colab": {
     "base_uri": "https://localhost:8080/",
     "height": 1000
    },
    "id": "yIXQ823SJsB7",
    "outputId": "8beb2a2b-2924-41d3-91c6-9c3343ed99dd"
   },
   "outputs": [],
   "source": [
    "distances = np.sort(distances, axis=0)\n",
    "plt.figure(figsize=(6, 4))\n",
    "plt.plot(distances)\n",
    "plt.axhline(y=3,linestyle=\"--\",color=\"red\")\n",
    "plt.title('K-Distance Graph')\n",
    "plt.xlabel('Data Points (sorted)')\n",
    "plt.ylabel(f'{k}-th Nearest Neighbor Distance')\n",
    "plt.show()"
   ]
  },
  {
   "cell_type": "code",
   "execution_count": null,
   "metadata": {
    "colab": {
     "base_uri": "https://localhost:8080/"
    },
    "id": "CFwod8nCJz2G",
    "outputId": "067b5764-6a79-4ee4-8735-f182e92a3a1b"
   },
   "outputs": [],
   "source": [
    "db=DBSCAN(eps=3,min_samples=10)\n",
    "y_db=db.fit_predict(pca_df)\n",
    "y_db"
   ]
  },
  {
   "cell_type": "code",
   "execution_count": null,
   "metadata": {
    "colab": {
     "base_uri": "https://localhost:8080/",
     "height": 1000
    },
    "id": "MPSxvwTZKlnF",
    "outputId": "d692576b-cc54-4cb8-ec39-532cf80234e7"
   },
   "outputs": [],
   "source": [
    "plt.figure(figsize=(5,4))\n",
    "plt.scatter(pca_df.iloc[:,3],pca_df.iloc[:,4],c=y_db,cmap=\"rainbow\")\n",
    "plt.tight_layout()"
   ]
  },
  {
   "cell_type": "code",
   "execution_count": null,
   "metadata": {
    "colab": {
     "base_uri": "https://localhost:8080/",
     "height": 424
    },
    "id": "8F_Xxy-WK9JO",
    "outputId": "04dcb258-8a11-4825-ca66-e22acfaae04a"
   },
   "outputs": [],
   "source": [
    "clusters3=pd.DataFrame(y_db,columns=[\"DB_Clusters\"])\n",
    "clusters3"
   ]
  },
  {
   "cell_type": "code",
   "execution_count": null,
   "metadata": {
    "colab": {
     "base_uri": "https://localhost:8080/",
     "height": 458
    },
    "id": "bCDT8i17IhCl",
    "outputId": "bdb6a1a6-2aab-46eb-b61f-5e48a2a4e04f"
   },
   "outputs": [],
   "source": [
    "Data\n",
    "db_data=Data.copy()\n",
    "db_data"
   ]
  },
  {
   "cell_type": "code",
   "execution_count": null,
   "metadata": {
    "colab": {
     "base_uri": "https://localhost:8080/",
     "height": 458
    },
    "id": "5ZtkV0ohIknt",
    "outputId": "01aad0af-5fa2-47a5-ae5d-dc43c1e520e0"
   },
   "outputs": [],
   "source": [
    "db_data[\"DB_Clusters\"]=clusters3\n",
    "db_data"
   ]
  },
  {
   "cell_type": "code",
   "execution_count": null,
   "metadata": {
    "colab": {
     "base_uri": "https://localhost:8080/",
     "height": 458
    },
    "id": "Mb4p_ErxIx9y",
    "outputId": "c2a94fbb-8fec-4195-ab98-ebebfaa9a7a9"
   },
   "outputs": [],
   "source": [
    "db_data[db_data[\"DB_Clusters\"]==0]"
   ]
  },
  {
   "cell_type": "code",
   "execution_count": null,
   "metadata": {
    "colab": {
     "base_uri": "https://localhost:8080/",
     "height": 1000
    },
    "id": "Z2LtgIC3I2y2",
    "outputId": "6ac8db17-ce1e-407e-b1e2-103c9b9fb605"
   },
   "outputs": [],
   "source": [
    "db_data[db_data[\"DB_Clusters\"]==-1]"
   ]
  },
  {
   "cell_type": "markdown",
   "metadata": {
    "id": "r-c0FCWpOKMO"
   },
   "source": [
    "## **Model Evaluation**"
   ]
  },
  {
   "cell_type": "code",
   "execution_count": null,
   "metadata": {
    "colab": {
     "base_uri": "https://localhost:8080/"
    },
    "id": "AgarSLQTNFpI",
    "outputId": "1f14b0d1-7c94-44ac-c496-5e14a35cc554"
   },
   "outputs": [],
   "source": [
    "\n",
    "silhouette_avg_hc = silhouette_score(pca_df, y_hc)\n",
    "print(f\"Silhouette Score (Hierarchical Clustering): {silhouette_avg_hc}\")\n",
    "\n",
    "silhouette_avg_kmeans = silhouette_score(pca_df, y_K)\n",
    "print(f\"Silhouette Score (K-means Clustering): {silhouette_avg_kmeans}\")\n",
    "\n",
    "silhouette_avg_dbscan = silhouette_score(pca_df, y_db)\n",
    "print(f\"Silhouette Score (DBSCAN Clustering): {silhouette_avg_dbscan}\")"
   ]
  },
  {
   "cell_type": "code",
   "execution_count": null,
   "metadata": {},
   "outputs": [],
   "source": [
    "import pickle"
   ]
  },
  {
   "cell_type": "code",
   "execution_count": null,
   "metadata": {},
   "outputs": [],
   "source": [
    "pickle.dump(kmeans,open(\"kmeans.pkl\",\"wb\"))"
   ]
  },
  {
   "cell_type": "code",
   "execution_count": null,
   "metadata": {},
   "outputs": [],
   "source": []
  },
  {
   "cell_type": "code",
   "execution_count": null,
   "metadata": {},
   "outputs": [],
   "source": []
  },
  {
   "cell_type": "code",
   "execution_count": null,
   "metadata": {},
   "outputs": [],
   "source": []
  }
 ],
 "metadata": {
  "colab": {
   "provenance": []
  },
  "kernelspec": {
   "display_name": "Python 3 (ipykernel)",
   "language": "python",
   "name": "python3"
  },
  "language_info": {
   "codemirror_mode": {
    "name": "ipython",
    "version": 3
   },
   "file_extension": ".py",
   "mimetype": "text/x-python",
   "name": "python",
   "nbconvert_exporter": "python",
   "pygments_lexer": "ipython3",
   "version": "3.11.5"
  }
 },
 "nbformat": 4,
 "nbformat_minor": 1
}
